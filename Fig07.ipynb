{
 "cells": [
  {
   "cell_type": "code",
   "execution_count": 1,
   "id": "8a32b8a4",
   "metadata": {},
   "outputs": [],
   "source": [
    "from src.funcs import *"
   ]
  },
  {
   "cell_type": "code",
   "execution_count": 2,
   "id": "60a3ddd9",
   "metadata": {},
   "outputs": [],
   "source": [
    "# 初始化对象\n",
    "vbh = VaidyaBlackHole()"
   ]
  },
  {
   "cell_type": "code",
   "execution_count": null,
   "id": "08adcd3c",
   "metadata": {},
   "outputs": [],
   "source": [
    "# 吸积率 0 ~ 0.0625\n",
    "mu = 5e-3\n",
    "# 更新mu\n",
    "vbh.update_mu(mu)\n",
    "\n",
    "# 观测者倾角 [D]\n",
    "theta0 = 53\n",
    "# 更新theta0\n",
    "vbh.update_theta0(theta0)\n",
    "\n",
    "# 更新文件路径 - mu或theta0发生变化时必须运行本函数\n",
    "vbh.update_filepath()"
   ]
  },
  {
   "cell_type": "code",
   "execution_count": 4,
   "id": "fa18d14d",
   "metadata": {},
   "outputs": [],
   "source": [
    "# 观测者位置\n",
    "robs = 1e5\n",
    "# 时间项\n",
    "# tc = np.arange(0,301)\n",
    "tc = [0,50,100]"
   ]
  },
  {
   "cell_type": "code",
   "execution_count": null,
   "id": "54b2d4eb",
   "metadata": {},
   "outputs": [
    {
     "name": "stdout",
     "output_type": "stream",
     "text": [
      "Load: ./Results/brcd/c_brcd_mu_5.00e-03_theta0_17.h5\n",
      "Load: ./Results/brcd/c_flux_mu_5.00e-03_theta0_17.h5\n",
      "正在绘制 tc = 000\n",
      "正在绘制 tc = 050\n",
      "正在绘制 tc = 100\n"
     ]
    }
   ],
   "source": [
    "# 动画 - 运行前需要创建 imgs/ 目录\n",
    "vbh.save_flux_png(robs, tc, False)"
   ]
  }
 ],
 "metadata": {
  "kernelspec": {
   "display_name": "Python 3",
   "language": "python",
   "name": "python3"
  },
  "language_info": {
   "codemirror_mode": {
    "name": "ipython",
    "version": 3
   },
   "file_extension": ".py",
   "mimetype": "text/x-python",
   "name": "python",
   "nbconvert_exporter": "python",
   "pygments_lexer": "ipython3",
   "version": "3.10.18"
  }
 },
 "nbformat": 4,
 "nbformat_minor": 5
}
